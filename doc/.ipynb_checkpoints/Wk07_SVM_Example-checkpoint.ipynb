{
 "cells": [
  {
   "cell_type": "markdown",
   "metadata": {},
   "source": [
    "# SVM: 세 개 샘플을 가진 경우에 대한 문제 풀이\n",
    "\n",
    "<img src=\"images/ex.5.3.jpg\"  style=\"width:750px\" align=\"left\">"
   ]
  },
  {
   "cell_type": "code",
   "execution_count": 3,
   "metadata": {
    "collapsed": false
   },
   "outputs": [],
   "source": [
    "import numpy as np\n",
    "import sympy as sp\n",
    "\n",
    "x=np.array([[2,3],[4,1],[5,1]])\n",
    "y=np.array([1,-1,-1])\n",
    "\n",
    "a0,a1,a2 = sp.symbols('a:3')    # alpha를 a0,a1,a2로 선언\n",
    "a=np.array([a0,a1,a2])\n",
    "b=sp.symbols('b')"
   ]
  },
  {
   "cell_type": "markdown",
   "metadata": {},
   "source": [
    "#### Kernel계산 - 벡터의 내적 계산\n",
    "A·B (A와 B의 내적) = (Ax × Bx) + (Ay × By)"
   ]
  },
  {
   "cell_type": "code",
   "execution_count": 4,
   "metadata": {
    "collapsed": false
   },
   "outputs": [
    {
     "name": "stdout",
     "output_type": "stream",
     "text": [
      "Kernel=[[13 11 13]\n",
      " [11 17 21]\n",
      " [13 21 26]]\n"
     ]
    }
   ],
   "source": [
    "def KernelLinear(xi,xj):\n",
    "    import numpy as np\n",
    "    return np.inner(xi,xj)\n",
    "\n",
    "K=KernelLinear(x,x)\n",
    "print \"Kernel={0}\".format(K)"
   ]
  },
  {
   "cell_type": "markdown",
   "metadata": {},
   "source": [
    "#### 수식도출"
   ]
  },
  {
   "cell_type": "code",
   "execution_count": 5,
   "metadata": {
    "collapsed": false
   },
   "outputs": [
    {
     "name": "stdout",
     "output_type": "stream",
     "text": [
      "Ld1=-6.5*a0**2 + 11.0*a0*a1 + 13.0*a0*a2 + a0 - 8.5*a1**2 - 21.0*a1*a2 + a1 - 13.0*a2**2 + a2\n"
     ]
    }
   ],
   "source": [
    "def getLd(a,y,x,xi):\n",
    "    Ld1=sum(a) -0.5*sumaayyk(a,y,x,x)\n",
    "    return Ld1\n",
    "\n",
    "def sumaayyk(a,y,x,xi):\n",
    "    import numpy as np\n",
    "    _sumaayyk=np.array(sum(np.outer(a,a)*np.outer(y,y)*KernelLinear(x,xi)))\n",
    "    return sum(_sumaayyk)\n",
    "\n",
    "Ld1=sum(a) -0.5*sumaayyk(a,y,x,x)\n",
    "print \"Ld1={0}\".format(Ld1)"
   ]
  },
  {
   "cell_type": "code",
   "execution_count": 6,
   "metadata": {
    "collapsed": false
   },
   "outputs": [
    {
     "name": "stdout",
     "output_type": "stream",
     "text": [
      "sum of ai*yi=0 -->  a0 - a1 - a2\n"
     ]
    }
   ],
   "source": [
    "print \"sum of ai*yi=0 --> \",sum(a*y)"
   ]
  },
  {
   "cell_type": "markdown",
   "metadata": {},
   "source": [
    "다음의 네 가지 경우로 나누어 풀이해야 함\n",
    "* a0=0, a1≠0, a2≠0   - 불가 (a ≥ 0)\n",
    "* a0≠0, a1=0, a2≠0   - 불가 (Kernel을 계산한 결과 a0 ~ a1의 거리가 a0 ~ a2의 거리보다 더 가까움)\n",
    "* a0≠0, a1≠0, a2=0   - 가능\n",
    "* a0≠0, a1≠0, a2≠0  - 불가"
   ]
  },
  {
   "cell_type": "markdown",
   "metadata": {},
   "source": [
    "#### a0≠0, a1≠0, a2=0"
   ]
  },
  {
   "cell_type": "code",
   "execution_count": 7,
   "metadata": {
    "collapsed": false
   },
   "outputs": [
    {
     "name": "stdout",
     "output_type": "stream",
     "text": [
      "Ld1_1_a1=a2 =  -4.0*a1**2 + 2*a1\n"
     ]
    }
   ],
   "source": [
    "Ld31_0=Ld1.subs(a2,0)    #a2 = 0\n",
    "Ld31_1=Ld31_0.subs(a0,a1)    #a0 = a1\n",
    "print \"Ld1_1_a1=a2 = \",Ld31_1"
   ]
  },
  {
   "cell_type": "code",
   "execution_count": 8,
   "metadata": {
    "collapsed": false
   },
   "outputs": [
    {
     "name": "stdout",
     "output_type": "stream",
     "text": [
      "Ld32=-8.0*a1 + 2\n",
      "0.250000000000000\n"
     ]
    }
   ],
   "source": [
    "Ld32=sp.diff(Ld31_1,a1)    #미분해서 α값을 구함\n",
    "print \"Ld32={0}\".format(Ld32)\n",
    "a3_=sp.solve(Ld32,a1)\n",
    "a3_1=a3_[0]\n",
    "print a3_1"
   ]
  },
  {
   "cell_type": "code",
   "execution_count": 9,
   "metadata": {
    "collapsed": false
   },
   "outputs": [
    {
     "name": "stdout",
     "output_type": "stream",
     "text": [
      "[0.250000000000000, 0.250000000000000, 0]\n"
     ]
    }
   ],
   "source": [
    "sol3_a=[a3_1,a3_1,0]\n",
    "print sol3_a"
   ]
  },
  {
   "cell_type": "code",
   "execution_count": 11,
   "metadata": {
    "collapsed": false
   },
   "outputs": [
    {
     "name": "stdout",
     "output_type": "stream",
     "text": [
      "[-0.500000000000000 0.500000000000000]\n"
     ]
    }
   ],
   "source": [
    "def sumayx(alphas,y,x):\n",
    "    ayxT=alphas*y*x.T\n",
    "    return ayxT.sum(axis=1)\n",
    "\n",
    "sol3_w=sumayx(np.array(sol3_a),y,x)\n",
    "sumayx(np.array(sol3_a),y,x)\n",
    "print sol3_w"
   ]
  },
  {
   "cell_type": "code",
   "execution_count": 12,
   "metadata": {
    "collapsed": false
   },
   "outputs": [
    {
     "name": "stdout",
     "output_type": "stream",
     "text": [
      "0.500000000000000 [2 3] 1\n",
      "0.500000000000000 [4 1] -1\n",
      "1.00000000000000 [5 1] -1\n"
     ]
    }
   ],
   "source": [
    "for xi,yi in zip(x,y):\n",
    "    b=yi*(1-yi*np.inner(sol3_w,xi))\n",
    "    print b,xi,yi"
   ]
  },
  {
   "cell_type": "code",
   "execution_count": 13,
   "metadata": {
    "collapsed": false
   },
   "outputs": [
    {
     "data": {
      "image/png": "[encoded data removed]",
      "text/plain": [
       "<matplotlib.figure.Figure at 0x8be4b70>"
      ]
     },
     "metadata": {},
     "output_type": "display_data"
    }
   ],
   "source": [
    "%matplotlib inline\n",
    "\n",
    "import matplotlib.pyplot as plt\n",
    "import numpy as np\n",
    "\n",
    "x1=np.arange(-6,6,0.1)\n",
    "x2=-(sol3_w[0]*x1+b)/sol3_w[1]\n",
    "\n",
    "fig=plt.figure()\n",
    "ax = fig.add_subplot(111)\n",
    "ax.set_xlabel('x1')\n",
    "ax.set_ylabel('x2')\n",
    "for i in x:\n",
    "    ax.text(i[0],i[1],i)\n",
    "    plt.scatter(i[0],i[1])\n",
    "plt.plot(x1,x2)\n",
    "plt.show()"
   ]
  },
  {
   "cell_type": "markdown",
   "metadata": {},
   "source": [
    "#### 참고: a0≠0, a1=0, a2≠0일 경우..."
   ]
  },
  {
   "cell_type": "code",
   "execution_count": 14,
   "metadata": {
    "collapsed": false,
    "scrolled": true
   },
   "outputs": [
    {
     "name": "stdout",
     "output_type": "stream",
     "text": [
      "Ld1_1_a0=a1 =  -6.5*a2**2 + 2*a2\n"
     ]
    }
   ],
   "source": [
    "Ld21_0=Ld1.subs(a1,0)    #a1 = 0\n",
    "Ld21_1=Ld21_0.subs(a0,a2)    #a0 = a2\n",
    "print \"Ld1_1_a0=a1 = \",Ld21_1"
   ]
  },
  {
   "cell_type": "code",
   "execution_count": 15,
   "metadata": {
    "collapsed": false
   },
   "outputs": [
    {
     "name": "stdout",
     "output_type": "stream",
     "text": [
      "Ld22=-13.0*a2 + 2\n",
      "0.153846153846154\n"
     ]
    }
   ],
   "source": [
    "Ld22=sp.diff(Ld21_1,a2)    #미분\n",
    "print \"Ld22={0}\".format(Ld22)\n",
    "a2_=sp.solve(Ld22,a2)\n",
    "a2_1=a2_[0]\n",
    "print a2_1"
   ]
  },
  {
   "cell_type": "code",
   "execution_count": 16,
   "metadata": {
    "collapsed": false
   },
   "outputs": [
    {
     "name": "stdout",
     "output_type": "stream",
     "text": [
      "[0.153846153846154, 0, 0.153846153846154]\n"
     ]
    }
   ],
   "source": [
    "sol2_a=[a2_1,0, a2_1]\n",
    "print sol2_a"
   ]
  },
  {
   "cell_type": "code",
   "execution_count": 17,
   "metadata": {
    "collapsed": false
   },
   "outputs": [
    {
     "name": "stdout",
     "output_type": "stream",
     "text": [
      "[-0.461538461538462 0.307692307692308]\n"
     ]
    }
   ],
   "source": [
    "sol2_w=sumayx(np.array(sol2_a),y,x)\n",
    "print sol2_w"
   ]
  },
  {
   "cell_type": "code",
   "execution_count": 18,
   "metadata": {
    "collapsed": false
   },
   "outputs": [
    {
     "name": "stdout",
     "output_type": "stream",
     "text": [
      "1 [2 3] 1\n",
      "0.538461538461539 [4 1] -1\n",
      "1.00000000000000 [5 1] -1\n"
     ]
    }
   ],
   "source": [
    "for xi,yi in zip(x,y):\n",
    "    b=yi*(1-yi*np.inner(sol2_w,xi))\n",
    "    print b,xi,yi"
   ]
  },
  {
   "cell_type": "code",
   "execution_count": 19,
   "metadata": {
    "collapsed": false,
    "scrolled": false
   },
   "outputs": [
    {
     "data": {
      "image/png": "[encoded data removed]",
      "text/plain": [
       "<matplotlib.figure.Figure at 0x7968438>"
      ]
     },
     "metadata": {},
     "output_type": "display_data"
    }
   ],
   "source": [
    "%matplotlib inline\n",
    "\n",
    "import matplotlib.pyplot as plt\n",
    "import numpy as np\n",
    "\n",
    "x1=np.arange(-6,6,0.1)\n",
    "x2=-(sol2_w[0]*x1+b)/sol2_w[1]\n",
    "\n",
    "fig=plt.figure()\n",
    "ax = fig.add_subplot(111)\n",
    "ax.set_xlabel('x1')\n",
    "ax.set_ylabel('x2')\n",
    "for i in x:\n",
    "    ax.text(i[0],i[1],i)\n",
    "    plt.scatter(i[0],i[1])\n",
    "plt.plot(x1,x2)\n",
    "plt.show()"
   ]
  }
 ],
 "metadata": {
  "kernelspec": {
   "display_name": "Python 2",
   "language": "python",
   "name": "python2"
  },
  "language_info": {
   "codemirror_mode": {
    "name": "ipython",
    "version": 2
   },
   "file_extension": ".py",
   "mimetype": "text/x-python",
   "name": "python",
   "nbconvert_exporter": "python",
   "pygments_lexer": "ipython2",
   "version": "2.7.11"
  }
 },
 "nbformat": 4,
 "nbformat_minor": 0
}
