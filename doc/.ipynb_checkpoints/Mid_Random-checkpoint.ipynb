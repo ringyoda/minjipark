{
 "cells": [
  {
   "cell_type": "markdown",
   "metadata": {},
   "source": [
    "# 1. 랜덤(Random) 프로그램"
   ]
  },
  {
   "cell_type": "markdown",
   "metadata": {},
   "source": [
    "## 1-1. 발표자를 랜덤으로 선정하는 프로그램\n",
    "* 랜덤(Random)으로 발표자를 선정하는 프로그램으로 0 또는 1이 나오게 한다. 0이 나오면 MinJi, 1이 나오면 YoungHo가 발표한다.\n",
    "* 더 많은 random 모듈 속성은 본 사이트( http://docs.scipy.org/doc/numpy/reference/routines.random.html )에서 확인할 수 있다."
   ]
  },
  {
   "cell_type": "code",
   "execution_count": 133,
   "metadata": {
    "collapsed": false
   },
   "outputs": [
    {
     "name": "stdout",
     "output_type": "stream",
     "text": [
      "Presenter: YoungHo\n"
     ]
    }
   ],
   "source": [
    "#랜덤(Random)으로 발표자를 선정하는 프로그램\n",
    "#작성자: 박민지\n",
    "\n",
    "import numpy as np\n",
    "\n",
    "#MinJi와 YoungHo 중 랜덤으로 발표자를 선정\n",
    "if np.random.randint(2) == 0:\n",
    "    print 'Presenter: MinJi'\n",
    "else:\n",
    "    print 'Presenter: YoungHo'"
   ]
  },
  {
   "cell_type": "markdown",
   "metadata": {},
   "source": [
    "## 1-2. 랜덤 프로그램 통계검정\n",
    "* 팀원 중 발표자를 랜덤으로 선정해주는 프로그램이 정말로 랜덤한가에 대한 통계검정을 해주는 프로그램을 작성한다.\n",
    "* 랜덤 프로그램은 이항분포 이다 - 이항분포 B (n.p) : 매번 성공의 확률이 p인 n번의 독립 시행에서 x번의 성공에 대한 확률분포\n",
    "\n",
    "#### 영가설 (H0, 귀무가설)\n",
    "* 어떠한 문제에 대해 보편적으로 믿어지는 가설이다 - 효과가 없다. 차이가 없다. 서로 다르지 않다.\n",
    "\n",
    "#### 연구가설 (H1, 대립가설)\n",
    "* 연구자가 기존 주장의 문제점을 발견하여 그에 반하는 새로운 주장을 하는 가설이다 - 효과가 있다. 차이가 있다. 서로 다르다.\n",
    "\n",
    "#### P값 (p-value)\n",
    "* 관측된 사건 또는 이에 못지 않게 영가설을 반박하는 사건들이 영가설 하에서 갖는 확률이다.\n",
    "* p-value < 0.05 이라면 귀무가설을 기각하고, 통계적 차이가 있다고 할 수 있다."
   ]
  },
  {
   "cell_type": "markdown",
   "metadata": {},
   "source": [
    "### 1-2-1. 독립 T 검정\n",
    "* 독립 T 검정은 두 집단 간의 평균 차이를 검증하기 위한 통계 검정 방법이다.\n",
    "\n",
    "\n",
    "* 랜덤프로그램을 한 번 돌릴 때 MinJi와 YoungHo 중 랜덤으로 발표자를 100번 뽑고 MinJi가 나온 횟수를 m, YoungHo가 나온 횟수를 y에 저장한다.\n",
    "* m과 y는 각각 MinJi가 나온 횟수의 그룹(m_count)과 YoungHo가 나온 횟수의 그룹(y_count)에 저장되며, 전체 프로그램은 10000번 돌린다.\n",
    "\n",
    "\n",
    "* 영가설(H0): MinJi가 나온 횟수의 그룹(m_count)과 YoungHo가 나온 횟수의 그룹(y_count)의 평균은 같다.\n",
    "* 연구가설(H1): MinJi가 나온 횟수의 그룹(m_count)과 YoungHo가 나온 횟수의 그룹(y_count)의 평균에 차이가 있을 것이다.\n",
    "* 랜덤 프로그램을 증명하기 위해서는 p > .05로 연구가설을 기각해야 한다.\n",
    "\n",
    "\n",
    "* 결과: 독립 T 검정을 열 번 반복해 본 결과 p < .05로 영가설을 기각하는 경우도 있다."
   ]
  },
  {
   "cell_type": "code",
   "execution_count": 269,
   "metadata": {
    "collapsed": false
   },
   "outputs": [
    {
     "name": "stdout",
     "output_type": "stream",
     "text": [
      "If we assume unequal variances than the t-statistic is -1.008 and the p-value is 0.314.\n",
      "If we assume unequal variances than the t-statistic is 0.751 and the p-value is 0.453.\n",
      "If we assume unequal variances than the t-statistic is 0.210 and the p-value is 0.834.\n",
      "If we assume unequal variances than the t-statistic is -1.195 and the p-value is 0.232.\n",
      "If we assume unequal variances than the t-statistic is 2.170 and the p-value is 0.030.\n",
      "If we assume unequal variances than the t-statistic is 0.642 and the p-value is 0.521.\n",
      "If we assume unequal variances than the t-statistic is -0.732 and the p-value is 0.464.\n",
      "If we assume unequal variances than the t-statistic is -0.624 and the p-value is 0.533.\n",
      "If we assume unequal variances than the t-statistic is 0.611 and the p-value is 0.541.\n",
      "If we assume unequal variances than the t-statistic is -0.889 and the p-value is 0.374.\n"
     ]
    }
   ],
   "source": [
    "#랜덤(Random)프로그램 통계검정을 위한 독립 T 검정 프로그램\n",
    "#작성자: 박민지\n",
    "\n",
    "import numpy as np\n",
    "from scipy import stats\n",
    "\"\"\"\n",
    "#MinJi와 YoungHo 중 랜덤으로 발표자를 n번 뽑고 배열에 저장\n",
    "n = 100 #랜덤프로그램을 한 번 돌릴 때 발표자를 뽑는 횟수\n",
    "total = 10000 #전제 랜덤프로그램을 돌리는 횟수\n",
    "\n",
    "m = 0\n",
    "y = 0\n",
    "m_count = [] #MinJi가 나온 횟수를 저장 할 배열 (그룹)\n",
    "y_count = [] #YoungHo가 나온 횟수를 저장 할 배열 (그룹)\n",
    "\n",
    "for i in range(total): \n",
    "    source = np.random.randint(2, size = n)\n",
    "    for k in range(n):\n",
    "        if source[k] == 0:\n",
    "            m = m+1 #MinJi가 나오면 카운트\n",
    "        else:\n",
    "            y = y+1 #YoungHo가 나오면 카운트\n",
    "    m_count.append(m) #MinJi가 나온 횟수를 배열에 저장\n",
    "    y_count.append(y) #YoungHo가 나온 횟수를 배열에 저장\n",
    "    m = 0\n",
    "    y = 0\n",
    "\n",
    "# 독립 T검정 모듈 stats.ttest_ind(그룹A, 그룹B, equal_var=True or False)\n",
    "two_sample_diff_var = stats.ttest_ind(m_count, y_count, equal_var=False)\n",
    "print \"If we assume unequal variances than the t-statistic is %.3f and the p-value is %.3f.\" % two_sample_diff_var\n",
    "\"\"\"\n",
    "for j in range(10): #독립 T 검정 프로그램을 열 번 반복\n",
    "    \n",
    "    #MinJi와 YoungHo 중 랜덤으로 발표자를 n번 뽑고 배열에 저장\n",
    "    n = 100 #랜덤프로그램을 한 번 돌릴 때 발표자를 뽑는 횟수\n",
    "    total = 10000 #전제 랜덤프로그램을 돌리는 횟수\n",
    "\n",
    "    m = 0\n",
    "    y = 0\n",
    "    m_count = [] #MinJi가 나온 횟수를 저장 할 배열 (그룹)\n",
    "    y_count = [] #YoungHo가 나온 횟수를 저장 할 배열 (그룹)\n",
    "\n",
    "    for i in range(total): \n",
    "        source = np.random.randint(2, size = n)\n",
    "        for k in range(n):\n",
    "            if source[k] == 0:\n",
    "                m = m+1 #MinJi가 나오면 카운트\n",
    "            else:\n",
    "                y = y+1 #YoungHo가 나오면 카운트\n",
    "        m_count.append(m) #MinJi가 나온 횟수를 배열에 저장\n",
    "        y_count.append(y) #YoungHo가 나온 횟수를 배열에 저장\n",
    "        m = 0\n",
    "        y = 0\n",
    "    \n",
    "    # 독립 T검정 모듈 stats.ttest_ind(그룹A, 그룹B, equal_var=True or False)\n",
    "    two_sample_diff_var = stats.ttest_ind(m_count, y_count, equal_var=False)\n",
    "    print \"If we assume unequal variances than the t-statistic is %.3f and the p-value is %.3f.\" % two_sample_diff_var"
   ]
  },
  {
   "cell_type": "markdown",
   "metadata": {},
   "source": [
    "### 1-2-2. 워드-월위츠(Wald-Wolfowitz) runs 검정\n",
    "* 한 표본집단에서 생기는 일련의 두 독립적 사건의 무선적 현상여부에 대한 검증에 대한 비모수적 검정방법이다.\n",
    "* 연속적인 관찰치가 무작위로 나타난 것인지 아니면 앞선 관찰치가 뒤에 나타나는 관찰치에 어떤 영향을 미치는지를 패턴(runs)으로 확인한다.\n",
    "* runs의 수 (부호가 바뀐 횟수)와 그 run의 길이에 의해 관측될 수 있다 - 예: MMMMMFFFFF ~ runs의 수는 2이고 길이가 5인 경우\n",
    "* 워드-월위치 runs 검정 수식은 본 사이트( https://en.wikipedia.org/wiki/Wald%E2%80%93Wolfowitz_runs_test )에서 확인할 수 있다.\n",
    "\n",
    "\n",
    "* 영가설(H0): 랜덤프로그램이 MinJi와 YoungHo를 예측하는 형태가 랜덤이다.\n",
    "* 연구가설(H1): 랜덤프로그램이 MinJi와 YoungHo를 예측하는 형태가 랜덤이 아니다.\n",
    "* 랜덤 프로그램을 증명하기 위해서는 p > .05로 연구가설을 기각해야 한다."
   ]
  },
  {
   "cell_type": "code",
   "execution_count": 275,
   "metadata": {
    "collapsed": false
   },
   "outputs": [
    {
     "name": "stdout",
     "output_type": "stream",
     "text": [
      "[1 0 0 0 0 1 1 1 0 0]\n",
      "{'p': 0.1030448884925696, 'z': -1.2643908456352868, 'n_runs': 4, 'sd': 1.4236104336041748, 'mean': 5.8}\n",
      "[1 1 0 0 0 0 1 0 1 0]\n",
      "{'p': 0.55586273279543441, 'z': 0.14048787173725422, 'n_runs': 6, 'sd': 1.4236104336041748, 'mean': 5.8}\n",
      "[1 0 1 1 1 1 0 0 1 0]\n",
      "{'p': 0.55586273279543441, 'z': 0.14048787173725422, 'n_runs': 6, 'sd': 1.4236104336041748, 'mean': 5.8}\n",
      "[0 1 0 1 1 0 0 1 0 1]\n",
      "{'p': 0.91014375256050006, 'z': 1.3416407864998738, 'n_runs': 8, 'sd': 1.4907119849998598, 'mean': 6.0}\n",
      "[0 1 1 1 0 0 1 0 1 1]\n",
      "{'p': 0.55586273279543441, 'z': 0.14048787173725422, 'n_runs': 6, 'sd': 1.4236104336041748, 'mean': 5.8}\n",
      "[0 1 0 1 1 1 1 1 0 0]\n",
      "{'p': 0.28707453639858105, 'z': -0.5619514869490162, 'n_runs': 5, 'sd': 1.4236104336041748, 'mean': 5.8}\n",
      "[0 0 0 0 1 0 1 1 1 1]\n",
      "{'p': 0.089856247439499881, 'z': -1.3416407864998738, 'n_runs': 4, 'sd': 1.4907119849998598, 'mean': 6.0}\n",
      "[0 1 0 0 1 0 0 1 1 1]\n",
      "{'p': 0.5, 'z': 0.0, 'n_runs': 6, 'sd': 1.4907119849998598, 'mean': 6.0}\n",
      "[1 0 1 0 0 1 1 1 1 0]\n",
      "{'p': 0.55586273279543441, 'z': 0.14048787173725422, 'n_runs': 6, 'sd': 1.4236104336041748, 'mean': 5.8}\n",
      "[0 1 1 1 0 1 1 1 1 0]\n",
      "{'p': 0.4349980588106947, 'z': -0.16366341767699444, 'n_runs': 5, 'sd': 1.2220201853215573, 'mean': 5.2}\n"
     ]
    }
   ],
   "source": [
    "import numpy as np\n",
    "import math\n",
    "from itertools import groupby\n",
    "\n",
    "def wald_wolfowitz(sequence):\n",
    "    R = n_runs = sum(1 for s in groupby(sequence, lambda a: a))\n",
    "\n",
    "    n = float(sum(1 for s in sequence if s == sequence[0]))\n",
    "    m = float(sum(1 for s in sequence if s != sequence[0]))\n",
    "\n",
    "    # expected mean runs\n",
    "    ER = ((2 * n * m ) / (n + m)) + 1\n",
    "    # expected variance runs\n",
    "    VR = (2 * n * m * (2 * n * m - n - m )) / ((n + m)**2 * (n + m - 1))\n",
    "    O = (ER - 1) * (ER - 2) / (n + m - 1.)\n",
    "    assert VR - O < 0.001, (VR, O)\n",
    "\n",
    "    SD = math.sqrt(VR)\n",
    "    # Z-score\n",
    "    Z = (R - ER) / SD\n",
    "\n",
    "    return {'z': Z, 'mean': ER, 'sd': SD, 'p': zprob(Z), 'n_runs': R}\n",
    "\n",
    "for j in range(10): #워드-월위츠(Wald-Wolfowitz) runs 검정 프로그램을 열 번 반복\n",
    "    n = 10\n",
    "    source = np.random.randint(2, size = n)\n",
    "    print source\n",
    "\n",
    "    print wald_wolfowitz(source)"
   ]
  },
  {
   "cell_type": "markdown",
   "metadata": {},
   "source": [
    "## Reference\n",
    "* https://www.random.org/analysis/\n",
    "* http://support.sas.com/kb/33/092.html\n",
    "* https://pypi.python.org/pypi/skidmarks"
   ]
  }
 ],
 "metadata": {
  "kernelspec": {
   "display_name": "Python 2",
   "language": "python",
   "name": "python2"
  },
  "language_info": {
   "codemirror_mode": {
    "name": "ipython",
    "version": 2
   },
   "file_extension": ".py",
   "mimetype": "text/x-python",
   "name": "python",
   "nbconvert_exporter": "python",
   "pygments_lexer": "ipython2",
   "version": "2.7.11"
  }
 },
 "nbformat": 4,
 "nbformat_minor": 0
}
